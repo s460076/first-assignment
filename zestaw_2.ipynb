{
 "cells": [
  {
   "cell_type": "code",
   "execution_count": 70,
   "metadata": {
    "scrolled": false
   },
   "outputs": [
    {
     "data": {
      "text/html": [
       "<div>\n",
       "<style scoped>\n",
       "    .dataframe tbody tr th:only-of-type {\n",
       "        vertical-align: middle;\n",
       "    }\n",
       "\n",
       "    .dataframe tbody tr th {\n",
       "        vertical-align: top;\n",
       "    }\n",
       "\n",
       "    .dataframe thead th {\n",
       "        text-align: right;\n",
       "    }\n",
       "</style>\n",
       "<table border=\"1\" class=\"dataframe\">\n",
       "  <thead>\n",
       "    <tr style=\"text-align: right;\">\n",
       "      <th></th>\n",
       "      <th>Hobbyist</th>\n",
       "      <th>Student</th>\n",
       "      <th>YearsCode</th>\n",
       "      <th>Age1stCode</th>\n",
       "      <th>YearsCodePro</th>\n",
       "      <th>CompFreq</th>\n",
       "      <th>ConvertedComp</th>\n",
       "      <th>WorkWeekHrs</th>\n",
       "      <th>BetterLife</th>\n",
       "      <th>Age</th>\n",
       "    </tr>\n",
       "    <tr>\n",
       "      <th>Respondent</th>\n",
       "      <th></th>\n",
       "      <th></th>\n",
       "      <th></th>\n",
       "      <th></th>\n",
       "      <th></th>\n",
       "      <th></th>\n",
       "      <th></th>\n",
       "      <th></th>\n",
       "      <th></th>\n",
       "      <th></th>\n",
       "    </tr>\n",
       "  </thead>\n",
       "  <tbody>\n",
       "    <tr>\n",
       "      <th>1</th>\n",
       "      <td>Yes</td>\n",
       "      <td>No</td>\n",
       "      <td>4</td>\n",
       "      <td>10</td>\n",
       "      <td>NaN</td>\n",
       "      <td>NaN</td>\n",
       "      <td>NaN</td>\n",
       "      <td>NaN</td>\n",
       "      <td>Yes</td>\n",
       "      <td>14.0</td>\n",
       "    </tr>\n",
       "    <tr>\n",
       "      <th>2</th>\n",
       "      <td>No</td>\n",
       "      <td>Yes, full-time</td>\n",
       "      <td>NaN</td>\n",
       "      <td>17</td>\n",
       "      <td>NaN</td>\n",
       "      <td>NaN</td>\n",
       "      <td>NaN</td>\n",
       "      <td>NaN</td>\n",
       "      <td>Yes</td>\n",
       "      <td>19.0</td>\n",
       "    </tr>\n",
       "    <tr>\n",
       "      <th>3</th>\n",
       "      <td>Yes</td>\n",
       "      <td>No</td>\n",
       "      <td>3</td>\n",
       "      <td>22</td>\n",
       "      <td>1</td>\n",
       "      <td>Monthly</td>\n",
       "      <td>8820.0</td>\n",
       "      <td>40.0</td>\n",
       "      <td>Yes</td>\n",
       "      <td>28.0</td>\n",
       "    </tr>\n",
       "    <tr>\n",
       "      <th>4</th>\n",
       "      <td>No</td>\n",
       "      <td>No</td>\n",
       "      <td>3</td>\n",
       "      <td>16</td>\n",
       "      <td>Less than 1 year</td>\n",
       "      <td>Yearly</td>\n",
       "      <td>61000.0</td>\n",
       "      <td>80.0</td>\n",
       "      <td>Yes</td>\n",
       "      <td>22.0</td>\n",
       "    </tr>\n",
       "    <tr>\n",
       "      <th>5</th>\n",
       "      <td>Yes</td>\n",
       "      <td>No</td>\n",
       "      <td>16</td>\n",
       "      <td>14</td>\n",
       "      <td>9</td>\n",
       "      <td>NaN</td>\n",
       "      <td>NaN</td>\n",
       "      <td>55.0</td>\n",
       "      <td>Yes</td>\n",
       "      <td>30.0</td>\n",
       "    </tr>\n",
       "  </tbody>\n",
       "</table>\n",
       "</div>"
      ],
      "text/plain": [
       "           Hobbyist         Student YearsCode Age1stCode      YearsCodePro  \\\n",
       "Respondent                                                                   \n",
       "1               Yes              No         4         10               NaN   \n",
       "2                No  Yes, full-time       NaN         17               NaN   \n",
       "3               Yes              No         3         22                 1   \n",
       "4                No              No         3         16  Less than 1 year   \n",
       "5               Yes              No        16         14                 9   \n",
       "\n",
       "           CompFreq  ConvertedComp  WorkWeekHrs BetterLife   Age  \n",
       "Respondent                                                        \n",
       "1               NaN            NaN          NaN        Yes  14.0  \n",
       "2               NaN            NaN          NaN        Yes  19.0  \n",
       "3           Monthly         8820.0         40.0        Yes  28.0  \n",
       "4            Yearly        61000.0         80.0        Yes  22.0  \n",
       "5               NaN            NaN         55.0        Yes  30.0  "
      ]
     },
     "execution_count": 70,
     "metadata": {},
     "output_type": "execute_result"
    }
   ],
   "source": [
    "\n",
    "import pandas as pd\n",
    "import numpy as np\n",
    "import matplotlib.pyplot as plt\n",
    "import seaborn as sns\n",
    "from sklearn import linear_model\n",
    "from sklearn.metrics import mean_squared_error\n",
    "from IPython.core.interactiveshell import InteractiveShell\n",
    "\n",
    "df_survey_schema = pd.read_csv('survey_results_schema.csv')\n",
    "\n",
    "df_answers = pd.read_csv('survey_results_public.csv',\n",
    "                         usecols = ['Respondent', 'Hobbyist', 'Age1stCode', 'YearsCode', 'YearsCodePro', 'CompFreq', 'ConvertedComp', 'WorkWeekHrs', 'Age', 'Student', 'BetterLife'],\n",
    "                        index_col = ['Respondent'])\n",
    "pd.options.display.max_columns = None\n",
    "df_answers.head()"
   ]
  },
  {
   "cell_type": "code",
   "execution_count": 71,
   "metadata": {
    "scrolled": true
   },
   "outputs": [
    {
     "data": {
      "text/plain": [
       "(88883, 10)"
      ]
     },
     "execution_count": 71,
     "metadata": {},
     "output_type": "execute_result"
    }
   ],
   "source": [
    "df_answers.shape"
   ]
  },
  {
   "cell_type": "code",
   "execution_count": 72,
   "metadata": {},
   "outputs": [
    {
     "data": {
      "text/plain": [
       "array(['10', '17', '22', '16', '14', '15', '11', '20', '13', '18', '12',\n",
       "       '19', '21', '8', '35', '6', '9', '29', '7', '5', '23', '30', nan,\n",
       "       '27', '24', 'Younger than 5 years', '33', '25', '26', '39', '36',\n",
       "       '38', '28', '31', 'Older than 85', '32', '37', '50', '65', '42',\n",
       "       '34', '40', '67', '43', '44', '60', '46', '45', '49', '51', '41',\n",
       "       '55', '83', '48', '53', '54', '47', '56', '79', '61', '68', '77',\n",
       "       '66', '52', '80', '62', '84', '57', '58', '63'], dtype=object)"
      ]
     },
     "execution_count": 72,
     "metadata": {},
     "output_type": "execute_result"
    }
   ],
   "source": [
    "pd.unique(df_answers.Age1stCode)"
   ]
  },
  {
   "cell_type": "code",
   "execution_count": 73,
   "metadata": {},
   "outputs": [],
   "source": [
    "df_answers.Age1stCode.replace(to_replace = {'Younger than 5 years': '4',\n",
    "                                            'Older than 85': '85'}, inplace=True)"
   ]
  },
  {
   "cell_type": "code",
   "execution_count": 74,
   "metadata": {
    "scrolled": false
   },
   "outputs": [
    {
     "data": {
      "text/plain": [
       "array(['10', '17', '22', '16', '14', '15', '11', '20', '13', '18', '12',\n",
       "       '19', '21', '8', '35', '6', '9', '29', '7', '5', '23', '30', nan,\n",
       "       '27', '24', '4', '33', '25', '26', '39', '36', '38', '28', '31',\n",
       "       '85', '32', '37', '50', '65', '42', '34', '40', '67', '43', '44',\n",
       "       '60', '46', '45', '49', '51', '41', '55', '83', '48', '53', '54',\n",
       "       '47', '56', '79', '61', '68', '77', '66', '52', '80', '62', '84',\n",
       "       '57', '58', '63'], dtype=object)"
      ]
     },
     "execution_count": 74,
     "metadata": {},
     "output_type": "execute_result"
    }
   ],
   "source": [
    "pd.unique(df_answers.Age1stCode)"
   ]
  },
  {
   "cell_type": "code",
   "execution_count": 75,
   "metadata": {},
   "outputs": [
    {
     "data": {
      "text/plain": [
       "array(['4', nan, '3', '16', '13', '6', '8', '12', '2', '5', '17', '10',\n",
       "       '14', '35', '7', '1', '30', '9', '26', '40', '19', '15', '20',\n",
       "       '28', '25', '22', '11', '33', '50', '41', '18', '34', '24', '23',\n",
       "       '42', '27', '21', '36', '32', '39', '38', '31', '37', '29', '44',\n",
       "       '45', '48', '46', '43', '47', '49'], dtype=object)"
      ]
     },
     "execution_count": 75,
     "metadata": {},
     "output_type": "execute_result"
    }
   ],
   "source": [
    "\n",
    "df_answers.YearsCode.replace(to_replace = {'Less than 1 year': '1',\n",
    "                                            'More than 50 years': '50'}, inplace=True)\n",
    "pd.unique(df_answers.YearsCode)"
   ]
  },
  {
   "cell_type": "code",
   "execution_count": 76,
   "metadata": {},
   "outputs": [
    {
     "data": {
      "text/plain": [
       "array([nan, '1', 'Less than 1 year', '9', '3', '4', '10', '8', '2', '13',\n",
       "       '18', '5', '14', '22', '23', '19', '35', '20', '25', '7', '15',\n",
       "       '27', '6', '48', '12', '31', '11', '17', '16', '21', '29', '30',\n",
       "       '26', '33', '28', '37', '40', '34', '24', '39', '38', '36', '32',\n",
       "       '41', '45', '43', 'More than 50 years', '44', '42', '46', '49',\n",
       "       '50', '47'], dtype=object)"
      ]
     },
     "execution_count": 76,
     "metadata": {},
     "output_type": "execute_result"
    }
   ],
   "source": [
    "pd.unique(df_answers.YearsCodePro)"
   ]
  },
  {
   "cell_type": "code",
   "execution_count": 77,
   "metadata": {},
   "outputs": [],
   "source": [
    "df_answers.YearsCodePro.replace(to_replace = {'Less than 1 year': '1',\n",
    "                                            'More than 50 years': '50'}, inplace=True)"
   ]
  },
  {
   "cell_type": "code",
   "execution_count": 78,
   "metadata": {},
   "outputs": [
    {
     "data": {
      "text/plain": [
       "array([nan, '1', '9', '3', '4', '10', '8', '2', '13', '18', '5', '14',\n",
       "       '22', '23', '19', '35', '20', '25', '7', '15', '27', '6', '48',\n",
       "       '12', '31', '11', '17', '16', '21', '29', '30', '26', '33', '28',\n",
       "       '37', '40', '34', '24', '39', '38', '36', '32', '41', '45', '43',\n",
       "       '50', '44', '42', '46', '49', '47'], dtype=object)"
      ]
     },
     "execution_count": 78,
     "metadata": {},
     "output_type": "execute_result"
    }
   ],
   "source": [
    "pd.unique(df_answers.YearsCodePro)"
   ]
  },
  {
   "cell_type": "code",
   "execution_count": 79,
   "metadata": {},
   "outputs": [
    {
     "data": {
      "text/plain": [
       "array([14. , 19. , 28. , 22. , 30. , 42. , 24. , 23. ,  nan, 21. , 31. ,\n",
       "       20. , 26. , 29. , 38. , 47. , 34. , 32. , 25. , 17. , 35. , 27. ,\n",
       "       44. , 43. , 62. , 37. , 45. , 18. , 33. , 36. , 16. , 39. , 64. ,\n",
       "       41. , 54. , 49. , 40. , 56. , 12. , 58. , 46. , 59. , 51. , 48. ,\n",
       "       57. , 52. , 50. , 23.9, 55. , 15. , 67. , 13. ,  1. , 53. , 69. ,\n",
       "       65. , 17.5, 63. , 61. , 68. , 73. , 70. , 60. , 16.5, 46.5, 11. ,\n",
       "       71. ,  3. , 97. , 29.5, 77. , 74. , 26.5, 26.3, 24.5, 78. , 72. ,\n",
       "       66. , 76. , 10. , 75. , 99. , 83. , 79. , 36.8, 14.1, 13.5, 19.5,\n",
       "       98. , 43.5, 22.5, 31.5, 21.5, 28.5, 33.6,  2. , 38.5, 30.8, 24.8,\n",
       "       90. , 61.3, 81. ,  4. , 17.3, 19.9, 80. , 85. , 88. , 23.5, 16.9,\n",
       "       20.9, 91. , 98.9, 57.9,  9. , 94. , 95. , 37.5, 14.5,  5. , 82. ,\n",
       "       84. , 37.3, 33.5, 53.8, 31.4, 87. ])"
      ]
     },
     "execution_count": 79,
     "metadata": {},
     "output_type": "execute_result"
    }
   ],
   "source": [
    "pd.unique(df_answers.Age)"
   ]
  },
  {
   "cell_type": "code",
   "execution_count": 80,
   "metadata": {},
   "outputs": [],
   "source": [
    "df_answers.loc[df_answers['CompFreq']=='Monthly', 'ConvertedComp'] = df_answers['ConvertedComp']*12"
   ]
  },
  {
   "cell_type": "code",
   "execution_count": 81,
   "metadata": {},
   "outputs": [],
   "source": [
    "df_answers.loc[df_answers['CompFreq']=='Weekly', 'ConvertedComp'] = df_answers['ConvertedComp']*52"
   ]
  },
  {
   "cell_type": "code",
   "execution_count": 82,
   "metadata": {},
   "outputs": [],
   "source": [
    "df_answers.drop('CompFreq', axis=1, inplace=True)"
   ]
  },
  {
   "cell_type": "code",
   "execution_count": 83,
   "metadata": {},
   "outputs": [
    {
     "data": {
      "text/html": [
       "<div>\n",
       "<style scoped>\n",
       "    .dataframe tbody tr th:only-of-type {\n",
       "        vertical-align: middle;\n",
       "    }\n",
       "\n",
       "    .dataframe tbody tr th {\n",
       "        vertical-align: top;\n",
       "    }\n",
       "\n",
       "    .dataframe thead th {\n",
       "        text-align: right;\n",
       "    }\n",
       "</style>\n",
       "<table border=\"1\" class=\"dataframe\">\n",
       "  <thead>\n",
       "    <tr style=\"text-align: right;\">\n",
       "      <th></th>\n",
       "      <th>Hobbyist</th>\n",
       "      <th>Student</th>\n",
       "      <th>YearsCode</th>\n",
       "      <th>Age1stCode</th>\n",
       "      <th>YearsCodePro</th>\n",
       "      <th>ConvertedComp</th>\n",
       "      <th>WorkWeekHrs</th>\n",
       "      <th>BetterLife</th>\n",
       "      <th>Age</th>\n",
       "    </tr>\n",
       "    <tr>\n",
       "      <th>Respondent</th>\n",
       "      <th></th>\n",
       "      <th></th>\n",
       "      <th></th>\n",
       "      <th></th>\n",
       "      <th></th>\n",
       "      <th></th>\n",
       "      <th></th>\n",
       "      <th></th>\n",
       "      <th></th>\n",
       "    </tr>\n",
       "  </thead>\n",
       "  <tbody>\n",
       "    <tr>\n",
       "      <th>1</th>\n",
       "      <td>Yes</td>\n",
       "      <td>No</td>\n",
       "      <td>4</td>\n",
       "      <td>10</td>\n",
       "      <td>NaN</td>\n",
       "      <td>NaN</td>\n",
       "      <td>NaN</td>\n",
       "      <td>Yes</td>\n",
       "      <td>14.0</td>\n",
       "    </tr>\n",
       "    <tr>\n",
       "      <th>2</th>\n",
       "      <td>No</td>\n",
       "      <td>Yes, full-time</td>\n",
       "      <td>NaN</td>\n",
       "      <td>17</td>\n",
       "      <td>NaN</td>\n",
       "      <td>NaN</td>\n",
       "      <td>NaN</td>\n",
       "      <td>Yes</td>\n",
       "      <td>19.0</td>\n",
       "    </tr>\n",
       "    <tr>\n",
       "      <th>3</th>\n",
       "      <td>Yes</td>\n",
       "      <td>No</td>\n",
       "      <td>3</td>\n",
       "      <td>22</td>\n",
       "      <td>1</td>\n",
       "      <td>105840.0</td>\n",
       "      <td>40.0</td>\n",
       "      <td>Yes</td>\n",
       "      <td>28.0</td>\n",
       "    </tr>\n",
       "    <tr>\n",
       "      <th>4</th>\n",
       "      <td>No</td>\n",
       "      <td>No</td>\n",
       "      <td>3</td>\n",
       "      <td>16</td>\n",
       "      <td>1</td>\n",
       "      <td>61000.0</td>\n",
       "      <td>80.0</td>\n",
       "      <td>Yes</td>\n",
       "      <td>22.0</td>\n",
       "    </tr>\n",
       "    <tr>\n",
       "      <th>5</th>\n",
       "      <td>Yes</td>\n",
       "      <td>No</td>\n",
       "      <td>16</td>\n",
       "      <td>14</td>\n",
       "      <td>9</td>\n",
       "      <td>NaN</td>\n",
       "      <td>55.0</td>\n",
       "      <td>Yes</td>\n",
       "      <td>30.0</td>\n",
       "    </tr>\n",
       "  </tbody>\n",
       "</table>\n",
       "</div>"
      ],
      "text/plain": [
       "           Hobbyist         Student YearsCode Age1stCode YearsCodePro  \\\n",
       "Respondent                                                              \n",
       "1               Yes              No         4         10          NaN   \n",
       "2                No  Yes, full-time       NaN         17          NaN   \n",
       "3               Yes              No         3         22            1   \n",
       "4                No              No         3         16            1   \n",
       "5               Yes              No        16         14            9   \n",
       "\n",
       "            ConvertedComp  WorkWeekHrs BetterLife   Age  \n",
       "Respondent                                               \n",
       "1                     NaN          NaN        Yes  14.0  \n",
       "2                     NaN          NaN        Yes  19.0  \n",
       "3                105840.0         40.0        Yes  28.0  \n",
       "4                 61000.0         80.0        Yes  22.0  \n",
       "5                     NaN         55.0        Yes  30.0  "
      ]
     },
     "execution_count": 83,
     "metadata": {},
     "output_type": "execute_result"
    }
   ],
   "source": [
    "df_answers.head()"
   ]
  },
  {
   "cell_type": "code",
   "execution_count": 84,
   "metadata": {
    "scrolled": true
   },
   "outputs": [
    {
     "data": {
      "text/plain": [
       "Hobbyist          object\n",
       "Student           object\n",
       "YearsCode         object\n",
       "Age1stCode        object\n",
       "YearsCodePro      object\n",
       "ConvertedComp    float64\n",
       "WorkWeekHrs      float64\n",
       "BetterLife        object\n",
       "Age              float64\n",
       "dtype: object"
      ]
     },
     "execution_count": 84,
     "metadata": {},
     "output_type": "execute_result"
    }
   ],
   "source": [
    "df_answers.dtypes"
   ]
  },
  {
   "cell_type": "code",
   "execution_count": 85,
   "metadata": {},
   "outputs": [],
   "source": [
    "df_answers[['YearsCode','Age1stCode','YearsCodePro']] = df_answers[['YearsCode','Age1stCode','YearsCodePro']].astype('float64', copy=False)"
   ]
  },
  {
   "cell_type": "code",
   "execution_count": 86,
   "metadata": {},
   "outputs": [
    {
     "data": {
      "text/plain": [
       "Hobbyist          object\n",
       "Student           object\n",
       "YearsCode        float64\n",
       "Age1stCode       float64\n",
       "YearsCodePro     float64\n",
       "ConvertedComp    float64\n",
       "WorkWeekHrs      float64\n",
       "BetterLife        object\n",
       "Age              float64\n",
       "dtype: object"
      ]
     },
     "execution_count": 86,
     "metadata": {},
     "output_type": "execute_result"
    }
   ],
   "source": [
    "df_answers.dtypes"
   ]
  },
  {
   "cell_type": "code",
   "execution_count": 87,
   "metadata": {},
   "outputs": [
    {
     "data": {
      "text/html": [
       "<div>\n",
       "<style scoped>\n",
       "    .dataframe tbody tr th:only-of-type {\n",
       "        vertical-align: middle;\n",
       "    }\n",
       "\n",
       "    .dataframe tbody tr th {\n",
       "        vertical-align: top;\n",
       "    }\n",
       "\n",
       "    .dataframe thead th {\n",
       "        text-align: right;\n",
       "    }\n",
       "</style>\n",
       "<table border=\"1\" class=\"dataframe\">\n",
       "  <thead>\n",
       "    <tr style=\"text-align: right;\">\n",
       "      <th></th>\n",
       "      <th>YearsCode</th>\n",
       "      <th>Age1stCode</th>\n",
       "      <th>YearsCodePro</th>\n",
       "      <th>ConvertedComp</th>\n",
       "      <th>WorkWeekHrs</th>\n",
       "      <th>Age</th>\n",
       "    </tr>\n",
       "  </thead>\n",
       "  <tbody>\n",
       "    <tr>\n",
       "      <th>YearsCode</th>\n",
       "      <td>1.000000</td>\n",
       "      <td>-0.246663</td>\n",
       "      <td>0.872745</td>\n",
       "      <td>0.010646</td>\n",
       "      <td>0.016252</td>\n",
       "      <td>0.780571</td>\n",
       "    </tr>\n",
       "    <tr>\n",
       "      <th>Age1stCode</th>\n",
       "      <td>-0.246663</td>\n",
       "      <td>1.000000</td>\n",
       "      <td>-0.133885</td>\n",
       "      <td>0.001428</td>\n",
       "      <td>-0.000632</td>\n",
       "      <td>0.106806</td>\n",
       "    </tr>\n",
       "    <tr>\n",
       "      <th>YearsCodePro</th>\n",
       "      <td>0.872745</td>\n",
       "      <td>-0.133885</td>\n",
       "      <td>1.000000</td>\n",
       "      <td>0.010461</td>\n",
       "      <td>0.016571</td>\n",
       "      <td>0.818525</td>\n",
       "    </tr>\n",
       "    <tr>\n",
       "      <th>ConvertedComp</th>\n",
       "      <td>0.010646</td>\n",
       "      <td>0.001428</td>\n",
       "      <td>0.010461</td>\n",
       "      <td>1.000000</td>\n",
       "      <td>0.003351</td>\n",
       "      <td>0.021344</td>\n",
       "    </tr>\n",
       "    <tr>\n",
       "      <th>WorkWeekHrs</th>\n",
       "      <td>0.016252</td>\n",
       "      <td>-0.000632</td>\n",
       "      <td>0.016571</td>\n",
       "      <td>0.003351</td>\n",
       "      <td>1.000000</td>\n",
       "      <td>0.019976</td>\n",
       "    </tr>\n",
       "    <tr>\n",
       "      <th>Age</th>\n",
       "      <td>0.780571</td>\n",
       "      <td>0.106806</td>\n",
       "      <td>0.818525</td>\n",
       "      <td>0.021344</td>\n",
       "      <td>0.019976</td>\n",
       "      <td>1.000000</td>\n",
       "    </tr>\n",
       "  </tbody>\n",
       "</table>\n",
       "</div>"
      ],
      "text/plain": [
       "               YearsCode  Age1stCode  YearsCodePro  ConvertedComp  \\\n",
       "YearsCode       1.000000   -0.246663      0.872745       0.010646   \n",
       "Age1stCode     -0.246663    1.000000     -0.133885       0.001428   \n",
       "YearsCodePro    0.872745   -0.133885      1.000000       0.010461   \n",
       "ConvertedComp   0.010646    0.001428      0.010461       1.000000   \n",
       "WorkWeekHrs     0.016252   -0.000632      0.016571       0.003351   \n",
       "Age             0.780571    0.106806      0.818525       0.021344   \n",
       "\n",
       "               WorkWeekHrs       Age  \n",
       "YearsCode         0.016252  0.780571  \n",
       "Age1stCode       -0.000632  0.106806  \n",
       "YearsCodePro      0.016571  0.818525  \n",
       "ConvertedComp     0.003351  0.021344  \n",
       "WorkWeekHrs       1.000000  0.019976  \n",
       "Age               0.019976  1.000000  "
      ]
     },
     "execution_count": 87,
     "metadata": {},
     "output_type": "execute_result"
    }
   ],
   "source": [
    "df_answers.corr()"
   ]
  },
  {
   "cell_type": "code",
   "execution_count": 88,
   "metadata": {
    "scrolled": true
   },
   "outputs": [
    {
     "data": {
      "text/html": [
       "<div>\n",
       "<style scoped>\n",
       "    .dataframe tbody tr th:only-of-type {\n",
       "        vertical-align: middle;\n",
       "    }\n",
       "\n",
       "    .dataframe tbody tr th {\n",
       "        vertical-align: top;\n",
       "    }\n",
       "\n",
       "    .dataframe thead th {\n",
       "        text-align: right;\n",
       "    }\n",
       "</style>\n",
       "<table border=\"1\" class=\"dataframe\">\n",
       "  <thead>\n",
       "    <tr style=\"text-align: right;\">\n",
       "      <th></th>\n",
       "      <th>YearsCode</th>\n",
       "      <th>Age1stCode</th>\n",
       "      <th>YearsCodePro</th>\n",
       "      <th>ConvertedComp</th>\n",
       "      <th>WorkWeekHrs</th>\n",
       "      <th>Age</th>\n",
       "    </tr>\n",
       "    <tr>\n",
       "      <th>Respondent</th>\n",
       "      <th></th>\n",
       "      <th></th>\n",
       "      <th></th>\n",
       "      <th></th>\n",
       "      <th></th>\n",
       "      <th></th>\n",
       "    </tr>\n",
       "  </thead>\n",
       "  <tbody>\n",
       "    <tr>\n",
       "      <th>3</th>\n",
       "      <td>3.0</td>\n",
       "      <td>22.0</td>\n",
       "      <td>1.0</td>\n",
       "      <td>105840.0</td>\n",
       "      <td>40.00</td>\n",
       "      <td>28.0</td>\n",
       "    </tr>\n",
       "    <tr>\n",
       "      <th>4</th>\n",
       "      <td>3.0</td>\n",
       "      <td>16.0</td>\n",
       "      <td>1.0</td>\n",
       "      <td>61000.0</td>\n",
       "      <td>80.00</td>\n",
       "      <td>22.0</td>\n",
       "    </tr>\n",
       "    <tr>\n",
       "      <th>6</th>\n",
       "      <td>13.0</td>\n",
       "      <td>15.0</td>\n",
       "      <td>3.0</td>\n",
       "      <td>4397040.0</td>\n",
       "      <td>15.00</td>\n",
       "      <td>28.0</td>\n",
       "    </tr>\n",
       "    <tr>\n",
       "      <th>9</th>\n",
       "      <td>12.0</td>\n",
       "      <td>11.0</td>\n",
       "      <td>4.0</td>\n",
       "      <td>95179.0</td>\n",
       "      <td>32.00</td>\n",
       "      <td>23.0</td>\n",
       "    </tr>\n",
       "    <tr>\n",
       "      <th>13</th>\n",
       "      <td>17.0</td>\n",
       "      <td>11.0</td>\n",
       "      <td>8.0</td>\n",
       "      <td>90000.0</td>\n",
       "      <td>40.00</td>\n",
       "      <td>28.0</td>\n",
       "    </tr>\n",
       "    <tr>\n",
       "      <th>...</th>\n",
       "      <td>...</td>\n",
       "      <td>...</td>\n",
       "      <td>...</td>\n",
       "      <td>...</td>\n",
       "      <td>...</td>\n",
       "      <td>...</td>\n",
       "    </tr>\n",
       "    <tr>\n",
       "      <th>88877</th>\n",
       "      <td>31.0</td>\n",
       "      <td>18.0</td>\n",
       "      <td>28.0</td>\n",
       "      <td>104000000.0</td>\n",
       "      <td>45.00</td>\n",
       "      <td>48.0</td>\n",
       "    </tr>\n",
       "    <tr>\n",
       "      <th>88878</th>\n",
       "      <td>12.0</td>\n",
       "      <td>14.0</td>\n",
       "      <td>3.0</td>\n",
       "      <td>130000.0</td>\n",
       "      <td>40.00</td>\n",
       "      <td>26.0</td>\n",
       "    </tr>\n",
       "    <tr>\n",
       "      <th>88879</th>\n",
       "      <td>17.0</td>\n",
       "      <td>16.0</td>\n",
       "      <td>7.0</td>\n",
       "      <td>989856.0</td>\n",
       "      <td>37.75</td>\n",
       "      <td>34.0</td>\n",
       "    </tr>\n",
       "    <tr>\n",
       "      <th>88881</th>\n",
       "      <td>18.0</td>\n",
       "      <td>17.0</td>\n",
       "      <td>9.0</td>\n",
       "      <td>68745.0</td>\n",
       "      <td>39.00</td>\n",
       "      <td>37.0</td>\n",
       "    </tr>\n",
       "    <tr>\n",
       "      <th>88883</th>\n",
       "      <td>9.0</td>\n",
       "      <td>15.0</td>\n",
       "      <td>5.0</td>\n",
       "      <td>22915.0</td>\n",
       "      <td>48.00</td>\n",
       "      <td>33.0</td>\n",
       "    </tr>\n",
       "  </tbody>\n",
       "</table>\n",
       "<p>52852 rows × 6 columns</p>\n",
       "</div>"
      ],
      "text/plain": [
       "            YearsCode  Age1stCode  YearsCodePro  ConvertedComp  WorkWeekHrs  \\\n",
       "Respondent                                                                    \n",
       "3                 3.0        22.0           1.0       105840.0        40.00   \n",
       "4                 3.0        16.0           1.0        61000.0        80.00   \n",
       "6                13.0        15.0           3.0      4397040.0        15.00   \n",
       "9                12.0        11.0           4.0        95179.0        32.00   \n",
       "13               17.0        11.0           8.0        90000.0        40.00   \n",
       "...               ...         ...           ...            ...          ...   \n",
       "88877            31.0        18.0          28.0    104000000.0        45.00   \n",
       "88878            12.0        14.0           3.0       130000.0        40.00   \n",
       "88879            17.0        16.0           7.0       989856.0        37.75   \n",
       "88881            18.0        17.0           9.0        68745.0        39.00   \n",
       "88883             9.0        15.0           5.0        22915.0        48.00   \n",
       "\n",
       "             Age  \n",
       "Respondent        \n",
       "3           28.0  \n",
       "4           22.0  \n",
       "6           28.0  \n",
       "9           23.0  \n",
       "13          28.0  \n",
       "...          ...  \n",
       "88877       48.0  \n",
       "88878       26.0  \n",
       "88879       34.0  \n",
       "88881       37.0  \n",
       "88883       33.0  \n",
       "\n",
       "[52852 rows x 6 columns]"
      ]
     },
     "execution_count": 88,
     "metadata": {},
     "output_type": "execute_result"
    }
   ],
   "source": [
    "df_base = df_answers[['YearsCode','Age1stCode','YearsCodePro','ConvertedComp','WorkWeekHrs','Age']]\n",
    "df_base.dropna()"
   ]
  },
  {
   "cell_type": "code",
   "execution_count": 89,
   "metadata": {},
   "outputs": [
    {
     "data": {
      "text/html": [
       "<div>\n",
       "<style scoped>\n",
       "    .dataframe tbody tr th:only-of-type {\n",
       "        vertical-align: middle;\n",
       "    }\n",
       "\n",
       "    .dataframe tbody tr th {\n",
       "        vertical-align: top;\n",
       "    }\n",
       "\n",
       "    .dataframe thead th {\n",
       "        text-align: right;\n",
       "    }\n",
       "</style>\n",
       "<table border=\"1\" class=\"dataframe\">\n",
       "  <thead>\n",
       "    <tr style=\"text-align: right;\">\n",
       "      <th></th>\n",
       "      <th>YearsCode</th>\n",
       "      <th>Age1stCode</th>\n",
       "      <th>YearsCodePro</th>\n",
       "      <th>ConvertedComp</th>\n",
       "      <th>WorkWeekHrs</th>\n",
       "      <th>Age</th>\n",
       "    </tr>\n",
       "  </thead>\n",
       "  <tbody>\n",
       "    <tr>\n",
       "      <th>YearsCode</th>\n",
       "      <td>1.000000</td>\n",
       "      <td>-0.246663</td>\n",
       "      <td>0.872745</td>\n",
       "      <td>0.010646</td>\n",
       "      <td>0.016252</td>\n",
       "      <td>0.780571</td>\n",
       "    </tr>\n",
       "    <tr>\n",
       "      <th>Age1stCode</th>\n",
       "      <td>-0.246663</td>\n",
       "      <td>1.000000</td>\n",
       "      <td>-0.133885</td>\n",
       "      <td>0.001428</td>\n",
       "      <td>-0.000632</td>\n",
       "      <td>0.106806</td>\n",
       "    </tr>\n",
       "    <tr>\n",
       "      <th>YearsCodePro</th>\n",
       "      <td>0.872745</td>\n",
       "      <td>-0.133885</td>\n",
       "      <td>1.000000</td>\n",
       "      <td>0.010461</td>\n",
       "      <td>0.016571</td>\n",
       "      <td>0.818525</td>\n",
       "    </tr>\n",
       "    <tr>\n",
       "      <th>ConvertedComp</th>\n",
       "      <td>0.010646</td>\n",
       "      <td>0.001428</td>\n",
       "      <td>0.010461</td>\n",
       "      <td>1.000000</td>\n",
       "      <td>0.003351</td>\n",
       "      <td>0.021344</td>\n",
       "    </tr>\n",
       "    <tr>\n",
       "      <th>WorkWeekHrs</th>\n",
       "      <td>0.016252</td>\n",
       "      <td>-0.000632</td>\n",
       "      <td>0.016571</td>\n",
       "      <td>0.003351</td>\n",
       "      <td>1.000000</td>\n",
       "      <td>0.019976</td>\n",
       "    </tr>\n",
       "    <tr>\n",
       "      <th>Age</th>\n",
       "      <td>0.780571</td>\n",
       "      <td>0.106806</td>\n",
       "      <td>0.818525</td>\n",
       "      <td>0.021344</td>\n",
       "      <td>0.019976</td>\n",
       "      <td>1.000000</td>\n",
       "    </tr>\n",
       "  </tbody>\n",
       "</table>\n",
       "</div>"
      ],
      "text/plain": [
       "               YearsCode  Age1stCode  YearsCodePro  ConvertedComp  \\\n",
       "YearsCode       1.000000   -0.246663      0.872745       0.010646   \n",
       "Age1stCode     -0.246663    1.000000     -0.133885       0.001428   \n",
       "YearsCodePro    0.872745   -0.133885      1.000000       0.010461   \n",
       "ConvertedComp   0.010646    0.001428      0.010461       1.000000   \n",
       "WorkWeekHrs     0.016252   -0.000632      0.016571       0.003351   \n",
       "Age             0.780571    0.106806      0.818525       0.021344   \n",
       "\n",
       "               WorkWeekHrs       Age  \n",
       "YearsCode         0.016252  0.780571  \n",
       "Age1stCode       -0.000632  0.106806  \n",
       "YearsCodePro      0.016571  0.818525  \n",
       "ConvertedComp     0.003351  0.021344  \n",
       "WorkWeekHrs       1.000000  0.019976  \n",
       "Age               0.019976  1.000000  "
      ]
     },
     "execution_count": 89,
     "metadata": {},
     "output_type": "execute_result"
    }
   ],
   "source": [
    "df_base.corr()"
   ]
  },
  {
   "cell_type": "code",
   "execution_count": null,
   "metadata": {},
   "outputs": [],
   "source": []
  },
  {
   "cell_type": "code",
   "execution_count": null,
   "metadata": {},
   "outputs": [],
   "source": []
  },
  {
   "cell_type": "code",
   "execution_count": null,
   "metadata": {},
   "outputs": [],
   "source": []
  },
  {
   "cell_type": "code",
   "execution_count": null,
   "metadata": {},
   "outputs": [],
   "source": []
  }
 ],
 "metadata": {
  "kernelspec": {
   "display_name": "Python 3",
   "language": "python",
   "name": "python3"
  },
  "language_info": {
   "codemirror_mode": {
    "name": "ipython",
    "version": 3
   },
   "file_extension": ".py",
   "mimetype": "text/x-python",
   "name": "python",
   "nbconvert_exporter": "python",
   "pygments_lexer": "ipython3",
   "version": "3.7.6"
  }
 },
 "nbformat": 4,
 "nbformat_minor": 4
}
