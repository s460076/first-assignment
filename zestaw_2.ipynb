{
 "cells": [
  {
   "cell_type": "code",
   "execution_count": 69,
   "metadata": {
    "scrolled": false
   },
   "outputs": [
    {
     "data": {
      "text/html": [
       "<div>\n",
       "<style scoped>\n",
       "    .dataframe tbody tr th:only-of-type {\n",
       "        vertical-align: middle;\n",
       "    }\n",
       "\n",
       "    .dataframe tbody tr th {\n",
       "        vertical-align: top;\n",
       "    }\n",
       "\n",
       "    .dataframe thead th {\n",
       "        text-align: right;\n",
       "    }\n",
       "</style>\n",
       "<table border=\"1\" class=\"dataframe\">\n",
       "  <thead>\n",
       "    <tr style=\"text-align: right;\">\n",
       "      <th></th>\n",
       "      <th>MainBranch</th>\n",
       "      <th>Hobbyist</th>\n",
       "      <th>Student</th>\n",
       "      <th>YearsCode</th>\n",
       "      <th>YearsCodePro</th>\n",
       "      <th>Age</th>\n",
       "    </tr>\n",
       "    <tr>\n",
       "      <th>Respondent</th>\n",
       "      <th></th>\n",
       "      <th></th>\n",
       "      <th></th>\n",
       "      <th></th>\n",
       "      <th></th>\n",
       "      <th></th>\n",
       "    </tr>\n",
       "  </thead>\n",
       "  <tbody>\n",
       "    <tr>\n",
       "      <th>1</th>\n",
       "      <td>I am a student who is learning to code</td>\n",
       "      <td>Yes</td>\n",
       "      <td>No</td>\n",
       "      <td>4</td>\n",
       "      <td>NaN</td>\n",
       "      <td>14.0</td>\n",
       "    </tr>\n",
       "    <tr>\n",
       "      <th>2</th>\n",
       "      <td>I am a student who is learning to code</td>\n",
       "      <td>No</td>\n",
       "      <td>Yes, full-time</td>\n",
       "      <td>NaN</td>\n",
       "      <td>NaN</td>\n",
       "      <td>19.0</td>\n",
       "    </tr>\n",
       "    <tr>\n",
       "      <th>3</th>\n",
       "      <td>I am not primarily a developer, but I write co...</td>\n",
       "      <td>Yes</td>\n",
       "      <td>No</td>\n",
       "      <td>3</td>\n",
       "      <td>1</td>\n",
       "      <td>28.0</td>\n",
       "    </tr>\n",
       "    <tr>\n",
       "      <th>4</th>\n",
       "      <td>I am a developer by profession</td>\n",
       "      <td>No</td>\n",
       "      <td>No</td>\n",
       "      <td>3</td>\n",
       "      <td>Less than 1 year</td>\n",
       "      <td>22.0</td>\n",
       "    </tr>\n",
       "    <tr>\n",
       "      <th>5</th>\n",
       "      <td>I am a developer by profession</td>\n",
       "      <td>Yes</td>\n",
       "      <td>No</td>\n",
       "      <td>16</td>\n",
       "      <td>9</td>\n",
       "      <td>30.0</td>\n",
       "    </tr>\n",
       "  </tbody>\n",
       "</table>\n",
       "</div>"
      ],
      "text/plain": [
       "                                                   MainBranch Hobbyist  \\\n",
       "Respondent                                                               \n",
       "1                      I am a student who is learning to code      Yes   \n",
       "2                      I am a student who is learning to code       No   \n",
       "3           I am not primarily a developer, but I write co...      Yes   \n",
       "4                              I am a developer by profession       No   \n",
       "5                              I am a developer by profession      Yes   \n",
       "\n",
       "                   Student YearsCode      YearsCodePro   Age  \n",
       "Respondent                                                    \n",
       "1                       No         4               NaN  14.0  \n",
       "2           Yes, full-time       NaN               NaN  19.0  \n",
       "3                       No         3                 1  28.0  \n",
       "4                       No         3  Less than 1 year  22.0  \n",
       "5                       No        16                 9  30.0  "
      ]
     },
     "execution_count": 69,
     "metadata": {},
     "output_type": "execute_result"
    }
   ],
   "source": [
    "\n",
    "import pandas as pd\n",
    "import numpy as np\n",
    "import matplotlib.pyplot as plt\n",
    "import seaborn as sns\n",
    "from sklearn import linear_model\n",
    "from sklearn.metrics import mean_squared_error\n",
    "from IPython.core.interactiveshell import InteractiveShell\n",
    "# loading data as a DataFrame\n",
    "df_survey_schema = pd.read_csv('survey_results_schema.csv')\n",
    "df_answers = pd.read_csv('survey_results_public.csv',\n",
    "                         usecols = ['Respondent', 'Hobbyist', 'YearsCode', 'YearsCodePro', 'Age','Student', 'MainBranch'],\n",
    "                         index_col = ['Respondent'])\n",
    "pd.options.display.max_columns = None\n",
    "df_answers.head()"
   ]
  },
  {
   "cell_type": "code",
   "execution_count": 70,
   "metadata": {
    "scrolled": true
   },
   "outputs": [
    {
     "data": {
      "text/plain": [
       "(88883, 6)"
      ]
     },
     "execution_count": 70,
     "metadata": {},
     "output_type": "execute_result"
    }
   ],
   "source": [
    "df_answers.shape"
   ]
  },
  {
   "cell_type": "code",
   "execution_count": 71,
   "metadata": {},
   "outputs": [
    {
     "data": {
      "text/plain": [
       "array(['4', nan, '3', '16', '13', '6', '8', '12', '2', '5', '17', '10',\n",
       "       '14', '35', '7', '1', '30', '9', '26', '40', '19', '15', '20',\n",
       "       '28', '25', '22', '11', '33', '50', '41', '18', '34', '24', '23',\n",
       "       '42', '27', '21', '36', '32', '39', '38', '31', '37', '29', '44',\n",
       "       '45', '48', '46', '43', '47', '49'], dtype=object)"
      ]
     },
     "execution_count": 71,
     "metadata": {},
     "output_type": "execute_result"
    }
   ],
   "source": [
    "# change text value to number\n",
    "df_answers.YearsCode.replace(to_replace={'Less than 1 year': '1',\n",
    "                                         'More than 50 years': '50'}, inplace=True)\n",
    "pd.unique(df_answers.YearsCode)"
   ]
  },
  {
   "cell_type": "code",
   "execution_count": 72,
   "metadata": {},
   "outputs": [
    {
     "data": {
      "text/plain": [
       "array([nan, '1', 'Less than 1 year', '9', '3', '4', '10', '8', '2', '13',\n",
       "       '18', '5', '14', '22', '23', '19', '35', '20', '25', '7', '15',\n",
       "       '27', '6', '48', '12', '31', '11', '17', '16', '21', '29', '30',\n",
       "       '26', '33', '28', '37', '40', '34', '24', '39', '38', '36', '32',\n",
       "       '41', '45', '43', 'More than 50 years', '44', '42', '46', '49',\n",
       "       '50', '47'], dtype=object)"
      ]
     },
     "execution_count": 72,
     "metadata": {},
     "output_type": "execute_result"
    }
   ],
   "source": [
    "pd.unique(df_answers.YearsCodePro)"
   ]
  },
  {
   "cell_type": "code",
   "execution_count": 73,
   "metadata": {},
   "outputs": [],
   "source": [
    "df_answers.YearsCodePro.replace(to_replace={'Less than 1 year': '1',\n",
    "                                            'More than 50 years': '50'}, inplace=True)"
   ]
  },
  {
   "cell_type": "code",
   "execution_count": 74,
   "metadata": {},
   "outputs": [
    {
     "data": {
      "text/plain": [
       "array([nan, '1', '9', '3', '4', '10', '8', '2', '13', '18', '5', '14',\n",
       "       '22', '23', '19', '35', '20', '25', '7', '15', '27', '6', '48',\n",
       "       '12', '31', '11', '17', '16', '21', '29', '30', '26', '33', '28',\n",
       "       '37', '40', '34', '24', '39', '38', '36', '32', '41', '45', '43',\n",
       "       '50', '44', '42', '46', '49', '47'], dtype=object)"
      ]
     },
     "execution_count": 74,
     "metadata": {},
     "output_type": "execute_result"
    }
   ],
   "source": [
    "pd.unique(df_answers.YearsCodePro)"
   ]
  },
  {
   "cell_type": "code",
   "execution_count": 75,
   "metadata": {},
   "outputs": [
    {
     "data": {
      "text/plain": [
       "array(['Yes', 'No'], dtype=object)"
      ]
     },
     "execution_count": 75,
     "metadata": {},
     "output_type": "execute_result"
    }
   ],
   "source": [
    "pd.unique(df_answers.Hobbyist)"
   ]
  },
  {
   "cell_type": "code",
   "execution_count": 77,
   "metadata": {},
   "outputs": [],
   "source": [
    "\n",
    "df_answers.Hobbyist.replace(to_replace={'Yes': '1',\n",
    "                                        'No': '0'}, inplace=True)"
   ]
  },
  {
   "cell_type": "code",
   "execution_count": 78,
   "metadata": {},
   "outputs": [
    {
     "data": {
      "text/plain": [
       "array(['No', 'Yes, full-time', nan, 'Yes, part-time'], dtype=object)"
      ]
     },
     "execution_count": 78,
     "metadata": {},
     "output_type": "execute_result"
    }
   ],
   "source": [
    "pd.unique(df_answers.Student)"
   ]
  },
  {
   "cell_type": "code",
   "execution_count": 79,
   "metadata": {},
   "outputs": [
    {
     "data": {
      "text/plain": [
       "array(['0', '1', nan], dtype=object)"
      ]
     },
     "execution_count": 79,
     "metadata": {},
     "output_type": "execute_result"
    }
   ],
   "source": [
    "df_answers.Student.replace(to_replace={'Yes, full-time': '1',\n",
    "                                       'Yes, part-time': '1',\n",
    "                                       'No': '0'}, inplace=True)\n",
    "pd.unique(df_answers.Student)"
   ]
  },
  {
   "cell_type": "code",
   "execution_count": 80,
   "metadata": {},
   "outputs": [
    {
     "data": {
      "text/plain": [
       "MainBranch       object\n",
       "Hobbyist         object\n",
       "Student          object\n",
       "YearsCode        object\n",
       "YearsCodePro     object\n",
       "Age             float64\n",
       "dtype: object"
      ]
     },
     "execution_count": 80,
     "metadata": {},
     "output_type": "execute_result"
    }
   ],
   "source": [
    "df_answers.dtypes"
   ]
  },
  {
   "cell_type": "code",
   "execution_count": 81,
   "metadata": {},
   "outputs": [
    {
     "data": {
      "text/html": [
       "<div>\n",
       "<style scoped>\n",
       "    .dataframe tbody tr th:only-of-type {\n",
       "        vertical-align: middle;\n",
       "    }\n",
       "\n",
       "    .dataframe tbody tr th {\n",
       "        vertical-align: top;\n",
       "    }\n",
       "\n",
       "    .dataframe thead th {\n",
       "        text-align: right;\n",
       "    }\n",
       "</style>\n",
       "<table border=\"1\" class=\"dataframe\">\n",
       "  <thead>\n",
       "    <tr style=\"text-align: right;\">\n",
       "      <th></th>\n",
       "      <th>MainBranch</th>\n",
       "      <th>Hobbyist</th>\n",
       "      <th>Student</th>\n",
       "      <th>YearsCode</th>\n",
       "      <th>YearsCodePro</th>\n",
       "      <th>Age</th>\n",
       "    </tr>\n",
       "    <tr>\n",
       "      <th>Respondent</th>\n",
       "      <th></th>\n",
       "      <th></th>\n",
       "      <th></th>\n",
       "      <th></th>\n",
       "      <th></th>\n",
       "      <th></th>\n",
       "    </tr>\n",
       "  </thead>\n",
       "  <tbody>\n",
       "    <tr>\n",
       "      <th>1</th>\n",
       "      <td>I am a student who is learning to code</td>\n",
       "      <td>1</td>\n",
       "      <td>0</td>\n",
       "      <td>4</td>\n",
       "      <td>NaN</td>\n",
       "      <td>14.0</td>\n",
       "    </tr>\n",
       "    <tr>\n",
       "      <th>2</th>\n",
       "      <td>I am a student who is learning to code</td>\n",
       "      <td>0</td>\n",
       "      <td>1</td>\n",
       "      <td>NaN</td>\n",
       "      <td>NaN</td>\n",
       "      <td>19.0</td>\n",
       "    </tr>\n",
       "    <tr>\n",
       "      <th>3</th>\n",
       "      <td>I am not primarily a developer, but I write co...</td>\n",
       "      <td>1</td>\n",
       "      <td>0</td>\n",
       "      <td>3</td>\n",
       "      <td>1</td>\n",
       "      <td>28.0</td>\n",
       "    </tr>\n",
       "    <tr>\n",
       "      <th>4</th>\n",
       "      <td>I am a developer by profession</td>\n",
       "      <td>0</td>\n",
       "      <td>0</td>\n",
       "      <td>3</td>\n",
       "      <td>1</td>\n",
       "      <td>22.0</td>\n",
       "    </tr>\n",
       "    <tr>\n",
       "      <th>5</th>\n",
       "      <td>I am a developer by profession</td>\n",
       "      <td>1</td>\n",
       "      <td>0</td>\n",
       "      <td>16</td>\n",
       "      <td>9</td>\n",
       "      <td>30.0</td>\n",
       "    </tr>\n",
       "  </tbody>\n",
       "</table>\n",
       "</div>"
      ],
      "text/plain": [
       "                                                   MainBranch Hobbyist  \\\n",
       "Respondent                                                               \n",
       "1                      I am a student who is learning to code        1   \n",
       "2                      I am a student who is learning to code        0   \n",
       "3           I am not primarily a developer, but I write co...        1   \n",
       "4                              I am a developer by profession        0   \n",
       "5                              I am a developer by profession        1   \n",
       "\n",
       "           Student YearsCode YearsCodePro   Age  \n",
       "Respondent                                       \n",
       "1                0         4          NaN  14.0  \n",
       "2                1       NaN          NaN  19.0  \n",
       "3                0         3            1  28.0  \n",
       "4                0         3            1  22.0  \n",
       "5                0        16            9  30.0  "
      ]
     },
     "execution_count": 81,
     "metadata": {},
     "output_type": "execute_result"
    }
   ],
   "source": [
    "df_answers.head()"
   ]
  },
  {
   "cell_type": "code",
   "execution_count": 82,
   "metadata": {},
   "outputs": [],
   "source": [
    "# convert to float64\n",
    "df_answers[['Student', 'Hobbyist', 'YearsCode', 'YearsCodePro', 'Age']] = df_answers[['Student', 'Hobbyist', 'YearsCode', 'YearsCodePro', 'Age']].astype('float64', copy=False)"
   ]
  },
  {
   "cell_type": "code",
   "execution_count": 83,
   "metadata": {},
   "outputs": [],
   "source": [
    "df_base = df_answers[['YearsCode', 'YearsCodePro', 'Age']]\n"
   ]
  },
  {
   "cell_type": "code",
   "execution_count": 84,
   "metadata": {},
   "outputs": [
    {
     "data": {
      "text/html": [
       "<div>\n",
       "<style scoped>\n",
       "    .dataframe tbody tr th:only-of-type {\n",
       "        vertical-align: middle;\n",
       "    }\n",
       "\n",
       "    .dataframe tbody tr th {\n",
       "        vertical-align: top;\n",
       "    }\n",
       "\n",
       "    .dataframe thead th {\n",
       "        text-align: right;\n",
       "    }\n",
       "</style>\n",
       "<table border=\"1\" class=\"dataframe\">\n",
       "  <thead>\n",
       "    <tr style=\"text-align: right;\">\n",
       "      <th></th>\n",
       "      <th>YearsCode</th>\n",
       "      <th>YearsCodePro</th>\n",
       "      <th>Age</th>\n",
       "    </tr>\n",
       "  </thead>\n",
       "  <tbody>\n",
       "    <tr>\n",
       "      <th>YearsCode</th>\n",
       "      <td>1.000000</td>\n",
       "      <td>0.872745</td>\n",
       "      <td>0.780571</td>\n",
       "    </tr>\n",
       "    <tr>\n",
       "      <th>YearsCodePro</th>\n",
       "      <td>0.872745</td>\n",
       "      <td>1.000000</td>\n",
       "      <td>0.818525</td>\n",
       "    </tr>\n",
       "    <tr>\n",
       "      <th>Age</th>\n",
       "      <td>0.780571</td>\n",
       "      <td>0.818525</td>\n",
       "      <td>1.000000</td>\n",
       "    </tr>\n",
       "  </tbody>\n",
       "</table>\n",
       "</div>"
      ],
      "text/plain": [
       "              YearsCode  YearsCodePro       Age\n",
       "YearsCode      1.000000      0.872745  0.780571\n",
       "YearsCodePro   0.872745      1.000000  0.818525\n",
       "Age            0.780571      0.818525  1.000000"
      ]
     },
     "execution_count": 84,
     "metadata": {},
     "output_type": "execute_result"
    }
   ],
   "source": [
    "# checking correlation\n",
    "df_base.corr()"
   ]
  },
  {
   "cell_type": "code",
   "execution_count": 85,
   "metadata": {},
   "outputs": [
    {
     "data": {
      "text/plain": [
       "YearsCode        2193\n",
       "YearsCodePro    15843\n",
       "Age             10876\n",
       "dtype: int64"
      ]
     },
     "execution_count": 85,
     "metadata": {},
     "output_type": "execute_result"
    }
   ],
   "source": [
    "df_base_sd = df_base[np.abs(df_base - df_base.mean()) <= 3*df_base.std()]\n",
    "df_base_sd.isna().sum()"
   ]
  },
  {
   "cell_type": "code",
   "execution_count": 86,
   "metadata": {},
   "outputs": [],
   "source": [
    "df_base_sd = df_base_sd.dropna()"
   ]
  },
  {
   "cell_type": "code",
   "execution_count": 87,
   "metadata": {},
   "outputs": [
    {
     "data": {
      "text/html": [
       "<div>\n",
       "<style scoped>\n",
       "    .dataframe tbody tr th:only-of-type {\n",
       "        vertical-align: middle;\n",
       "    }\n",
       "\n",
       "    .dataframe tbody tr th {\n",
       "        vertical-align: top;\n",
       "    }\n",
       "\n",
       "    .dataframe thead th {\n",
       "        text-align: right;\n",
       "    }\n",
       "</style>\n",
       "<table border=\"1\" class=\"dataframe\">\n",
       "  <thead>\n",
       "    <tr style=\"text-align: right;\">\n",
       "      <th></th>\n",
       "      <th>YearsCode</th>\n",
       "      <th>YearsCodePro</th>\n",
       "      <th>Age</th>\n",
       "    </tr>\n",
       "  </thead>\n",
       "  <tbody>\n",
       "    <tr>\n",
       "      <th>YearsCode</th>\n",
       "      <td>1.000000</td>\n",
       "      <td>0.851281</td>\n",
       "      <td>0.758228</td>\n",
       "    </tr>\n",
       "    <tr>\n",
       "      <th>YearsCodePro</th>\n",
       "      <td>0.851281</td>\n",
       "      <td>1.000000</td>\n",
       "      <td>0.793396</td>\n",
       "    </tr>\n",
       "    <tr>\n",
       "      <th>Age</th>\n",
       "      <td>0.758228</td>\n",
       "      <td>0.793396</td>\n",
       "      <td>1.000000</td>\n",
       "    </tr>\n",
       "  </tbody>\n",
       "</table>\n",
       "</div>"
      ],
      "text/plain": [
       "              YearsCode  YearsCodePro       Age\n",
       "YearsCode      1.000000      0.851281  0.758228\n",
       "YearsCodePro   0.851281      1.000000  0.793396\n",
       "Age            0.758228      0.793396  1.000000"
      ]
     },
     "execution_count": 87,
     "metadata": {},
     "output_type": "execute_result"
    }
   ],
   "source": [
    "# checking correlation\n",
    "df_base_sd.corr()"
   ]
  },
  {
   "cell_type": "code",
   "execution_count": 88,
   "metadata": {},
   "outputs": [
    {
     "data": {
      "text/html": [
       "<div>\n",
       "<style scoped>\n",
       "    .dataframe tbody tr th:only-of-type {\n",
       "        vertical-align: middle;\n",
       "    }\n",
       "\n",
       "    .dataframe tbody tr th {\n",
       "        vertical-align: top;\n",
       "    }\n",
       "\n",
       "    .dataframe thead th {\n",
       "        text-align: right;\n",
       "    }\n",
       "</style>\n",
       "<table border=\"1\" class=\"dataframe\">\n",
       "  <thead>\n",
       "    <tr style=\"text-align: right;\">\n",
       "      <th></th>\n",
       "      <th>I am a developer by profession</th>\n",
       "      <th>I am a student who is learning to code</th>\n",
       "      <th>I am not primarily a developer, but I write code sometimes as part of my work</th>\n",
       "      <th>I code primarily as a hobby</th>\n",
       "      <th>I used to be a developer by profession, but no longer am</th>\n",
       "    </tr>\n",
       "    <tr>\n",
       "      <th>Respondent</th>\n",
       "      <th></th>\n",
       "      <th></th>\n",
       "      <th></th>\n",
       "      <th></th>\n",
       "      <th></th>\n",
       "    </tr>\n",
       "  </thead>\n",
       "  <tbody>\n",
       "    <tr>\n",
       "      <th>1</th>\n",
       "      <td>0</td>\n",
       "      <td>1</td>\n",
       "      <td>0</td>\n",
       "      <td>0</td>\n",
       "      <td>0</td>\n",
       "    </tr>\n",
       "    <tr>\n",
       "      <th>2</th>\n",
       "      <td>0</td>\n",
       "      <td>1</td>\n",
       "      <td>0</td>\n",
       "      <td>0</td>\n",
       "      <td>0</td>\n",
       "    </tr>\n",
       "    <tr>\n",
       "      <th>3</th>\n",
       "      <td>0</td>\n",
       "      <td>0</td>\n",
       "      <td>1</td>\n",
       "      <td>0</td>\n",
       "      <td>0</td>\n",
       "    </tr>\n",
       "  </tbody>\n",
       "</table>\n",
       "</div>"
      ],
      "text/plain": [
       "            I am a developer by profession  \\\n",
       "Respondent                                   \n",
       "1                                        0   \n",
       "2                                        0   \n",
       "3                                        0   \n",
       "\n",
       "            I am a student who is learning to code  \\\n",
       "Respondent                                           \n",
       "1                                                1   \n",
       "2                                                1   \n",
       "3                                                0   \n",
       "\n",
       "            I am not primarily a developer, but I write code sometimes as part of my work  \\\n",
       "Respondent                                                                                  \n",
       "1                                                           0                               \n",
       "2                                                           0                               \n",
       "3                                                           1                               \n",
       "\n",
       "            I code primarily as a hobby  \\\n",
       "Respondent                                \n",
       "1                                     0   \n",
       "2                                     0   \n",
       "3                                     0   \n",
       "\n",
       "            I used to be a developer by profession, but no longer am  \n",
       "Respondent                                                            \n",
       "1                                                           0         \n",
       "2                                                           0         \n",
       "3                                                           0         "
      ]
     },
     "execution_count": 88,
     "metadata": {},
     "output_type": "execute_result"
    }
   ],
   "source": [
    "# creating a dataframe with One-Hot Encoding\n",
    "df_answers_2 = pd.get_dummies(df_answers.MainBranch)\n",
    "df_answers_2.head(3)"
   ]
  },
  {
   "cell_type": "code",
   "execution_count": 89,
   "metadata": {},
   "outputs": [
    {
     "data": {
      "text/plain": [
       "(88883, 8)"
      ]
     },
     "execution_count": 89,
     "metadata": {},
     "output_type": "execute_result"
    }
   ],
   "source": [
    "# joining two dataframes\n",
    "df_base = pd.merge(df_base, df_answers_2, on='Respondent', how='inner')\n",
    "df_base.shape"
   ]
  },
  {
   "cell_type": "code",
   "execution_count": 90,
   "metadata": {},
   "outputs": [
    {
     "data": {
      "text/html": [
       "<div>\n",
       "<style scoped>\n",
       "    .dataframe tbody tr th:only-of-type {\n",
       "        vertical-align: middle;\n",
       "    }\n",
       "\n",
       "    .dataframe tbody tr th {\n",
       "        vertical-align: top;\n",
       "    }\n",
       "\n",
       "    .dataframe thead th {\n",
       "        text-align: right;\n",
       "    }\n",
       "</style>\n",
       "<table border=\"1\" class=\"dataframe\">\n",
       "  <thead>\n",
       "    <tr style=\"text-align: right;\">\n",
       "      <th></th>\n",
       "      <th>YearsCode</th>\n",
       "      <th>YearsCodePro</th>\n",
       "      <th>Age</th>\n",
       "      <th>I am a developer by profession</th>\n",
       "      <th>I am a student who is learning to code</th>\n",
       "      <th>I am not primarily a developer, but I write code sometimes as part of my work</th>\n",
       "      <th>I code primarily as a hobby</th>\n",
       "      <th>I used to be a developer by profession, but no longer am</th>\n",
       "    </tr>\n",
       "    <tr>\n",
       "      <th>Respondent</th>\n",
       "      <th></th>\n",
       "      <th></th>\n",
       "      <th></th>\n",
       "      <th></th>\n",
       "      <th></th>\n",
       "      <th></th>\n",
       "      <th></th>\n",
       "      <th></th>\n",
       "    </tr>\n",
       "  </thead>\n",
       "  <tbody>\n",
       "    <tr>\n",
       "      <th>1</th>\n",
       "      <td>4.0</td>\n",
       "      <td>NaN</td>\n",
       "      <td>14.0</td>\n",
       "      <td>0</td>\n",
       "      <td>1</td>\n",
       "      <td>0</td>\n",
       "      <td>0</td>\n",
       "      <td>0</td>\n",
       "    </tr>\n",
       "    <tr>\n",
       "      <th>2</th>\n",
       "      <td>NaN</td>\n",
       "      <td>NaN</td>\n",
       "      <td>19.0</td>\n",
       "      <td>0</td>\n",
       "      <td>1</td>\n",
       "      <td>0</td>\n",
       "      <td>0</td>\n",
       "      <td>0</td>\n",
       "    </tr>\n",
       "    <tr>\n",
       "      <th>3</th>\n",
       "      <td>3.0</td>\n",
       "      <td>1.0</td>\n",
       "      <td>28.0</td>\n",
       "      <td>0</td>\n",
       "      <td>0</td>\n",
       "      <td>1</td>\n",
       "      <td>0</td>\n",
       "      <td>0</td>\n",
       "    </tr>\n",
       "    <tr>\n",
       "      <th>4</th>\n",
       "      <td>3.0</td>\n",
       "      <td>1.0</td>\n",
       "      <td>22.0</td>\n",
       "      <td>1</td>\n",
       "      <td>0</td>\n",
       "      <td>0</td>\n",
       "      <td>0</td>\n",
       "      <td>0</td>\n",
       "    </tr>\n",
       "    <tr>\n",
       "      <th>5</th>\n",
       "      <td>16.0</td>\n",
       "      <td>9.0</td>\n",
       "      <td>30.0</td>\n",
       "      <td>1</td>\n",
       "      <td>0</td>\n",
       "      <td>0</td>\n",
       "      <td>0</td>\n",
       "      <td>0</td>\n",
       "    </tr>\n",
       "  </tbody>\n",
       "</table>\n",
       "</div>"
      ],
      "text/plain": [
       "            YearsCode  YearsCodePro   Age  I am a developer by profession  \\\n",
       "Respondent                                                                  \n",
       "1                 4.0           NaN  14.0                               0   \n",
       "2                 NaN           NaN  19.0                               0   \n",
       "3                 3.0           1.0  28.0                               0   \n",
       "4                 3.0           1.0  22.0                               1   \n",
       "5                16.0           9.0  30.0                               1   \n",
       "\n",
       "            I am a student who is learning to code  \\\n",
       "Respondent                                           \n",
       "1                                                1   \n",
       "2                                                1   \n",
       "3                                                0   \n",
       "4                                                0   \n",
       "5                                                0   \n",
       "\n",
       "            I am not primarily a developer, but I write code sometimes as part of my work  \\\n",
       "Respondent                                                                                  \n",
       "1                                                           0                               \n",
       "2                                                           0                               \n",
       "3                                                           1                               \n",
       "4                                                           0                               \n",
       "5                                                           0                               \n",
       "\n",
       "            I code primarily as a hobby  \\\n",
       "Respondent                                \n",
       "1                                     0   \n",
       "2                                     0   \n",
       "3                                     0   \n",
       "4                                     0   \n",
       "5                                     0   \n",
       "\n",
       "            I used to be a developer by profession, but no longer am  \n",
       "Respondent                                                            \n",
       "1                                                           0         \n",
       "2                                                           0         \n",
       "3                                                           0         \n",
       "4                                                           0         \n",
       "5                                                           0         "
      ]
     },
     "execution_count": 90,
     "metadata": {},
     "output_type": "execute_result"
    }
   ],
   "source": [
    "df_base.head()\n"
   ]
  },
  {
   "cell_type": "code",
   "execution_count": 91,
   "metadata": {},
   "outputs": [
    {
     "data": {
      "text/plain": [
       "(88883, 9)"
      ]
     },
     "execution_count": 91,
     "metadata": {},
     "output_type": "execute_result"
    }
   ],
   "source": [
    "# Add a column 'Student'\n",
    "df_base= pd.merge(df_base, df_answers[['Student']], on='Respondent', how='inner')\n",
    "df_base.shape"
   ]
  },
  {
   "cell_type": "code",
   "execution_count": 92,
   "metadata": {},
   "outputs": [
    {
     "data": {
      "text/html": [
       "<div>\n",
       "<style scoped>\n",
       "    .dataframe tbody tr th:only-of-type {\n",
       "        vertical-align: middle;\n",
       "    }\n",
       "\n",
       "    .dataframe tbody tr th {\n",
       "        vertical-align: top;\n",
       "    }\n",
       "\n",
       "    .dataframe thead th {\n",
       "        text-align: right;\n",
       "    }\n",
       "</style>\n",
       "<table border=\"1\" class=\"dataframe\">\n",
       "  <thead>\n",
       "    <tr style=\"text-align: right;\">\n",
       "      <th></th>\n",
       "      <th>YearsCode</th>\n",
       "      <th>YearsCodePro</th>\n",
       "      <th>Age</th>\n",
       "      <th>I am a developer by profession</th>\n",
       "      <th>I am a student who is learning to code</th>\n",
       "      <th>I am not primarily a developer, but I write code sometimes as part of my work</th>\n",
       "      <th>I code primarily as a hobby</th>\n",
       "      <th>I used to be a developer by profession, but no longer am</th>\n",
       "      <th>Student</th>\n",
       "    </tr>\n",
       "  </thead>\n",
       "  <tbody>\n",
       "    <tr>\n",
       "      <th>YearsCode</th>\n",
       "      <td>1.000000</td>\n",
       "      <td>0.872745</td>\n",
       "      <td>0.780571</td>\n",
       "      <td>0.192834</td>\n",
       "      <td>-0.296229</td>\n",
       "      <td>0.055791</td>\n",
       "      <td>-0.098020</td>\n",
       "      <td>0.106147</td>\n",
       "      <td>-0.295142</td>\n",
       "    </tr>\n",
       "    <tr>\n",
       "      <th>YearsCodePro</th>\n",
       "      <td>0.872745</td>\n",
       "      <td>1.000000</td>\n",
       "      <td>0.818525</td>\n",
       "      <td>-0.027607</td>\n",
       "      <td>NaN</td>\n",
       "      <td>-0.004978</td>\n",
       "      <td>NaN</td>\n",
       "      <td>0.084357</td>\n",
       "      <td>-0.191453</td>\n",
       "    </tr>\n",
       "    <tr>\n",
       "      <th>Age</th>\n",
       "      <td>0.780571</td>\n",
       "      <td>0.818525</td>\n",
       "      <td>1.000000</td>\n",
       "      <td>0.162522</td>\n",
       "      <td>-0.325084</td>\n",
       "      <td>0.118292</td>\n",
       "      <td>-0.098302</td>\n",
       "      <td>0.118327</td>\n",
       "      <td>-0.327793</td>\n",
       "    </tr>\n",
       "    <tr>\n",
       "      <th>I am a developer by profession</th>\n",
       "      <td>0.192834</td>\n",
       "      <td>-0.027607</td>\n",
       "      <td>0.162522</td>\n",
       "      <td>1.000000</td>\n",
       "      <td>-0.605378</td>\n",
       "      <td>-0.512184</td>\n",
       "      <td>-0.332440</td>\n",
       "      <td>-0.226623</td>\n",
       "      <td>-0.316971</td>\n",
       "    </tr>\n",
       "    <tr>\n",
       "      <th>I am a student who is learning to code</th>\n",
       "      <td>-0.296229</td>\n",
       "      <td>NaN</td>\n",
       "      <td>-0.325084</td>\n",
       "      <td>-0.605378</td>\n",
       "      <td>1.000000</td>\n",
       "      <td>-0.109544</td>\n",
       "      <td>-0.071101</td>\n",
       "      <td>-0.048469</td>\n",
       "      <td>0.442503</td>\n",
       "    </tr>\n",
       "    <tr>\n",
       "      <th>I am not primarily a developer, but I write code sometimes as part of my work</th>\n",
       "      <td>0.055791</td>\n",
       "      <td>-0.004978</td>\n",
       "      <td>0.118292</td>\n",
       "      <td>-0.512184</td>\n",
       "      <td>-0.109544</td>\n",
       "      <td>1.000000</td>\n",
       "      <td>-0.060155</td>\n",
       "      <td>-0.041008</td>\n",
       "      <td>-0.012505</td>\n",
       "    </tr>\n",
       "    <tr>\n",
       "      <th>I code primarily as a hobby</th>\n",
       "      <td>-0.098020</td>\n",
       "      <td>NaN</td>\n",
       "      <td>-0.098302</td>\n",
       "      <td>-0.332440</td>\n",
       "      <td>-0.071101</td>\n",
       "      <td>-0.060155</td>\n",
       "      <td>1.000000</td>\n",
       "      <td>-0.026617</td>\n",
       "      <td>0.019787</td>\n",
       "    </tr>\n",
       "    <tr>\n",
       "      <th>I used to be a developer by profession, but no longer am</th>\n",
       "      <td>0.106147</td>\n",
       "      <td>0.084357</td>\n",
       "      <td>0.118327</td>\n",
       "      <td>-0.226623</td>\n",
       "      <td>-0.048469</td>\n",
       "      <td>-0.041008</td>\n",
       "      <td>-0.026617</td>\n",
       "      <td>1.000000</td>\n",
       "      <td>-0.020222</td>\n",
       "    </tr>\n",
       "    <tr>\n",
       "      <th>Student</th>\n",
       "      <td>-0.295142</td>\n",
       "      <td>-0.191453</td>\n",
       "      <td>-0.327793</td>\n",
       "      <td>-0.316971</td>\n",
       "      <td>0.442503</td>\n",
       "      <td>-0.012505</td>\n",
       "      <td>0.019787</td>\n",
       "      <td>-0.020222</td>\n",
       "      <td>1.000000</td>\n",
       "    </tr>\n",
       "  </tbody>\n",
       "</table>\n",
       "</div>"
      ],
      "text/plain": [
       "                                                    YearsCode  YearsCodePro  \\\n",
       "YearsCode                                            1.000000      0.872745   \n",
       "YearsCodePro                                         0.872745      1.000000   \n",
       "Age                                                  0.780571      0.818525   \n",
       "I am a developer by profession                       0.192834     -0.027607   \n",
       "I am a student who is learning to code              -0.296229           NaN   \n",
       "I am not primarily a developer, but I write cod...   0.055791     -0.004978   \n",
       "I code primarily as a hobby                         -0.098020           NaN   \n",
       "I used to be a developer by profession, but no ...   0.106147      0.084357   \n",
       "Student                                             -0.295142     -0.191453   \n",
       "\n",
       "                                                         Age  \\\n",
       "YearsCode                                           0.780571   \n",
       "YearsCodePro                                        0.818525   \n",
       "Age                                                 1.000000   \n",
       "I am a developer by profession                      0.162522   \n",
       "I am a student who is learning to code             -0.325084   \n",
       "I am not primarily a developer, but I write cod...  0.118292   \n",
       "I code primarily as a hobby                        -0.098302   \n",
       "I used to be a developer by profession, but no ...  0.118327   \n",
       "Student                                            -0.327793   \n",
       "\n",
       "                                                    I am a developer by profession  \\\n",
       "YearsCode                                                                 0.192834   \n",
       "YearsCodePro                                                             -0.027607   \n",
       "Age                                                                       0.162522   \n",
       "I am a developer by profession                                            1.000000   \n",
       "I am a student who is learning to code                                   -0.605378   \n",
       "I am not primarily a developer, but I write cod...                       -0.512184   \n",
       "I code primarily as a hobby                                              -0.332440   \n",
       "I used to be a developer by profession, but no ...                       -0.226623   \n",
       "Student                                                                  -0.316971   \n",
       "\n",
       "                                                    I am a student who is learning to code  \\\n",
       "YearsCode                                                                        -0.296229   \n",
       "YearsCodePro                                                                           NaN   \n",
       "Age                                                                              -0.325084   \n",
       "I am a developer by profession                                                   -0.605378   \n",
       "I am a student who is learning to code                                            1.000000   \n",
       "I am not primarily a developer, but I write cod...                               -0.109544   \n",
       "I code primarily as a hobby                                                      -0.071101   \n",
       "I used to be a developer by profession, but no ...                               -0.048469   \n",
       "Student                                                                           0.442503   \n",
       "\n",
       "                                                    I am not primarily a developer, but I write code sometimes as part of my work  \\\n",
       "YearsCode                                                                                    0.055791                               \n",
       "YearsCodePro                                                                                -0.004978                               \n",
       "Age                                                                                          0.118292                               \n",
       "I am a developer by profession                                                              -0.512184                               \n",
       "I am a student who is learning to code                                                      -0.109544                               \n",
       "I am not primarily a developer, but I write cod...                                           1.000000                               \n",
       "I code primarily as a hobby                                                                 -0.060155                               \n",
       "I used to be a developer by profession, but no ...                                          -0.041008                               \n",
       "Student                                                                                     -0.012505                               \n",
       "\n",
       "                                                    I code primarily as a hobby  \\\n",
       "YearsCode                                                             -0.098020   \n",
       "YearsCodePro                                                                NaN   \n",
       "Age                                                                   -0.098302   \n",
       "I am a developer by profession                                        -0.332440   \n",
       "I am a student who is learning to code                                -0.071101   \n",
       "I am not primarily a developer, but I write cod...                    -0.060155   \n",
       "I code primarily as a hobby                                            1.000000   \n",
       "I used to be a developer by profession, but no ...                    -0.026617   \n",
       "Student                                                                0.019787   \n",
       "\n",
       "                                                    I used to be a developer by profession, but no longer am  \\\n",
       "YearsCode                                                                                    0.106147          \n",
       "YearsCodePro                                                                                 0.084357          \n",
       "Age                                                                                          0.118327          \n",
       "I am a developer by profession                                                              -0.226623          \n",
       "I am a student who is learning to code                                                      -0.048469          \n",
       "I am not primarily a developer, but I write cod...                                          -0.041008          \n",
       "I code primarily as a hobby                                                                 -0.026617          \n",
       "I used to be a developer by profession, but no ...                                           1.000000          \n",
       "Student                                                                                     -0.020222          \n",
       "\n",
       "                                                     Student  \n",
       "YearsCode                                          -0.295142  \n",
       "YearsCodePro                                       -0.191453  \n",
       "Age                                                -0.327793  \n",
       "I am a developer by profession                     -0.316971  \n",
       "I am a student who is learning to code              0.442503  \n",
       "I am not primarily a developer, but I write cod... -0.012505  \n",
       "I code primarily as a hobby                         0.019787  \n",
       "I used to be a developer by profession, but no ... -0.020222  \n",
       "Student                                             1.000000  "
      ]
     },
     "execution_count": 92,
     "metadata": {},
     "output_type": "execute_result"
    }
   ],
   "source": [
    "df_base.corr()"
   ]
  },
  {
   "cell_type": "code",
   "execution_count": 93,
   "metadata": {},
   "outputs": [
    {
     "data": {
      "text/html": [
       "<div>\n",
       "<style scoped>\n",
       "    .dataframe tbody tr th:only-of-type {\n",
       "        vertical-align: middle;\n",
       "    }\n",
       "\n",
       "    .dataframe tbody tr th {\n",
       "        vertical-align: top;\n",
       "    }\n",
       "\n",
       "    .dataframe thead th {\n",
       "        text-align: right;\n",
       "    }\n",
       "</style>\n",
       "<table border=\"1\" class=\"dataframe\">\n",
       "  <thead>\n",
       "    <tr style=\"text-align: right;\">\n",
       "      <th></th>\n",
       "      <th>YearsCode</th>\n",
       "      <th>YearsCodePro</th>\n",
       "      <th>Age</th>\n",
       "      <th>I am a developer by profession</th>\n",
       "      <th>I am a student who is learning to code</th>\n",
       "      <th>I am not primarily a developer, but I write code sometimes as part of my work</th>\n",
       "      <th>I code primarily as a hobby</th>\n",
       "      <th>I used to be a developer by profession, but no longer am</th>\n",
       "      <th>Student</th>\n",
       "    </tr>\n",
       "  </thead>\n",
       "  <tbody>\n",
       "    <tr>\n",
       "      <th>YearsCode</th>\n",
       "      <td>1.000000</td>\n",
       "      <td>0.874188</td>\n",
       "      <td>0.792287</td>\n",
       "      <td>-0.052973</td>\n",
       "      <td>NaN</td>\n",
       "      <td>0.014975</td>\n",
       "      <td>NaN</td>\n",
       "      <td>0.100823</td>\n",
       "      <td>-0.206222</td>\n",
       "    </tr>\n",
       "    <tr>\n",
       "      <th>YearsCodePro</th>\n",
       "      <td>0.874188</td>\n",
       "      <td>1.000000</td>\n",
       "      <td>0.820335</td>\n",
       "      <td>-0.024743</td>\n",
       "      <td>NaN</td>\n",
       "      <td>-0.008742</td>\n",
       "      <td>NaN</td>\n",
       "      <td>0.086828</td>\n",
       "      <td>-0.192122</td>\n",
       "    </tr>\n",
       "    <tr>\n",
       "      <th>Age</th>\n",
       "      <td>0.792287</td>\n",
       "      <td>0.820335</td>\n",
       "      <td>1.000000</td>\n",
       "      <td>-0.129840</td>\n",
       "      <td>NaN</td>\n",
       "      <td>0.087647</td>\n",
       "      <td>NaN</td>\n",
       "      <td>0.115606</td>\n",
       "      <td>-0.236412</td>\n",
       "    </tr>\n",
       "    <tr>\n",
       "      <th>I am a developer by profession</th>\n",
       "      <td>-0.052973</td>\n",
       "      <td>-0.024743</td>\n",
       "      <td>-0.129840</td>\n",
       "      <td>1.000000</td>\n",
       "      <td>NaN</td>\n",
       "      <td>-0.889689</td>\n",
       "      <td>NaN</td>\n",
       "      <td>-0.379878</td>\n",
       "      <td>-0.050165</td>\n",
       "    </tr>\n",
       "    <tr>\n",
       "      <th>I am a student who is learning to code</th>\n",
       "      <td>NaN</td>\n",
       "      <td>NaN</td>\n",
       "      <td>NaN</td>\n",
       "      <td>NaN</td>\n",
       "      <td>NaN</td>\n",
       "      <td>NaN</td>\n",
       "      <td>NaN</td>\n",
       "      <td>NaN</td>\n",
       "      <td>NaN</td>\n",
       "    </tr>\n",
       "    <tr>\n",
       "      <th>I am not primarily a developer, but I write code sometimes as part of my work</th>\n",
       "      <td>0.014975</td>\n",
       "      <td>-0.008742</td>\n",
       "      <td>0.087647</td>\n",
       "      <td>-0.889689</td>\n",
       "      <td>NaN</td>\n",
       "      <td>1.000000</td>\n",
       "      <td>NaN</td>\n",
       "      <td>-0.045802</td>\n",
       "      <td>0.051198</td>\n",
       "    </tr>\n",
       "    <tr>\n",
       "      <th>I code primarily as a hobby</th>\n",
       "      <td>NaN</td>\n",
       "      <td>NaN</td>\n",
       "      <td>NaN</td>\n",
       "      <td>NaN</td>\n",
       "      <td>NaN</td>\n",
       "      <td>NaN</td>\n",
       "      <td>NaN</td>\n",
       "      <td>NaN</td>\n",
       "      <td>NaN</td>\n",
       "    </tr>\n",
       "    <tr>\n",
       "      <th>I used to be a developer by profession, but no longer am</th>\n",
       "      <td>0.100823</td>\n",
       "      <td>0.086828</td>\n",
       "      <td>0.115606</td>\n",
       "      <td>-0.379878</td>\n",
       "      <td>NaN</td>\n",
       "      <td>-0.045802</td>\n",
       "      <td>NaN</td>\n",
       "      <td>1.000000</td>\n",
       "      <td>-0.003899</td>\n",
       "    </tr>\n",
       "    <tr>\n",
       "      <th>Student</th>\n",
       "      <td>-0.206222</td>\n",
       "      <td>-0.192122</td>\n",
       "      <td>-0.236412</td>\n",
       "      <td>-0.050165</td>\n",
       "      <td>NaN</td>\n",
       "      <td>0.051198</td>\n",
       "      <td>NaN</td>\n",
       "      <td>-0.003899</td>\n",
       "      <td>1.000000</td>\n",
       "    </tr>\n",
       "  </tbody>\n",
       "</table>\n",
       "</div>"
      ],
      "text/plain": [
       "                                                    YearsCode  YearsCodePro  \\\n",
       "YearsCode                                            1.000000      0.874188   \n",
       "YearsCodePro                                         0.874188      1.000000   \n",
       "Age                                                  0.792287      0.820335   \n",
       "I am a developer by profession                      -0.052973     -0.024743   \n",
       "I am a student who is learning to code                    NaN           NaN   \n",
       "I am not primarily a developer, but I write cod...   0.014975     -0.008742   \n",
       "I code primarily as a hobby                               NaN           NaN   \n",
       "I used to be a developer by profession, but no ...   0.100823      0.086828   \n",
       "Student                                             -0.206222     -0.192122   \n",
       "\n",
       "                                                         Age  \\\n",
       "YearsCode                                           0.792287   \n",
       "YearsCodePro                                        0.820335   \n",
       "Age                                                 1.000000   \n",
       "I am a developer by profession                     -0.129840   \n",
       "I am a student who is learning to code                   NaN   \n",
       "I am not primarily a developer, but I write cod...  0.087647   \n",
       "I code primarily as a hobby                              NaN   \n",
       "I used to be a developer by profession, but no ...  0.115606   \n",
       "Student                                            -0.236412   \n",
       "\n",
       "                                                    I am a developer by profession  \\\n",
       "YearsCode                                                                -0.052973   \n",
       "YearsCodePro                                                             -0.024743   \n",
       "Age                                                                      -0.129840   \n",
       "I am a developer by profession                                            1.000000   \n",
       "I am a student who is learning to code                                         NaN   \n",
       "I am not primarily a developer, but I write cod...                       -0.889689   \n",
       "I code primarily as a hobby                                                    NaN   \n",
       "I used to be a developer by profession, but no ...                       -0.379878   \n",
       "Student                                                                  -0.050165   \n",
       "\n",
       "                                                    I am a student who is learning to code  \\\n",
       "YearsCode                                                                              NaN   \n",
       "YearsCodePro                                                                           NaN   \n",
       "Age                                                                                    NaN   \n",
       "I am a developer by profession                                                         NaN   \n",
       "I am a student who is learning to code                                                 NaN   \n",
       "I am not primarily a developer, but I write cod...                                     NaN   \n",
       "I code primarily as a hobby                                                            NaN   \n",
       "I used to be a developer by profession, but no ...                                     NaN   \n",
       "Student                                                                                NaN   \n",
       "\n",
       "                                                    I am not primarily a developer, but I write code sometimes as part of my work  \\\n",
       "YearsCode                                                                                    0.014975                               \n",
       "YearsCodePro                                                                                -0.008742                               \n",
       "Age                                                                                          0.087647                               \n",
       "I am a developer by profession                                                              -0.889689                               \n",
       "I am a student who is learning to code                                                            NaN                               \n",
       "I am not primarily a developer, but I write cod...                                           1.000000                               \n",
       "I code primarily as a hobby                                                                       NaN                               \n",
       "I used to be a developer by profession, but no ...                                          -0.045802                               \n",
       "Student                                                                                      0.051198                               \n",
       "\n",
       "                                                    I code primarily as a hobby  \\\n",
       "YearsCode                                                                   NaN   \n",
       "YearsCodePro                                                                NaN   \n",
       "Age                                                                         NaN   \n",
       "I am a developer by profession                                              NaN   \n",
       "I am a student who is learning to code                                      NaN   \n",
       "I am not primarily a developer, but I write cod...                          NaN   \n",
       "I code primarily as a hobby                                                 NaN   \n",
       "I used to be a developer by profession, but no ...                          NaN   \n",
       "Student                                                                     NaN   \n",
       "\n",
       "                                                    I used to be a developer by profession, but no longer am  \\\n",
       "YearsCode                                                                                    0.100823          \n",
       "YearsCodePro                                                                                 0.086828          \n",
       "Age                                                                                          0.115606          \n",
       "I am a developer by profession                                                              -0.379878          \n",
       "I am a student who is learning to code                                                            NaN          \n",
       "I am not primarily a developer, but I write cod...                                          -0.045802          \n",
       "I code primarily as a hobby                                                                       NaN          \n",
       "I used to be a developer by profession, but no ...                                           1.000000          \n",
       "Student                                                                                     -0.003899          \n",
       "\n",
       "                                                     Student  \n",
       "YearsCode                                          -0.206222  \n",
       "YearsCodePro                                       -0.192122  \n",
       "Age                                                -0.236412  \n",
       "I am a developer by profession                     -0.050165  \n",
       "I am a student who is learning to code                   NaN  \n",
       "I am not primarily a developer, but I write cod...  0.051198  \n",
       "I code primarily as a hobby                              NaN  \n",
       "I used to be a developer by profession, but no ... -0.003899  \n",
       "Student                                             1.000000  "
      ]
     },
     "execution_count": 93,
     "metadata": {},
     "output_type": "execute_result"
    }
   ],
   "source": [
    "df_base = df_base.dropna()\n",
    "df_base.corr()"
   ]
  },
  {
   "cell_type": "code",
   "execution_count": 94,
   "metadata": {},
   "outputs": [
    {
     "data": {
      "text/html": [
       "<div>\n",
       "<style scoped>\n",
       "    .dataframe tbody tr th:only-of-type {\n",
       "        vertical-align: middle;\n",
       "    }\n",
       "\n",
       "    .dataframe tbody tr th {\n",
       "        vertical-align: top;\n",
       "    }\n",
       "\n",
       "    .dataframe thead th {\n",
       "        text-align: right;\n",
       "    }\n",
       "</style>\n",
       "<table border=\"1\" class=\"dataframe\">\n",
       "  <thead>\n",
       "    <tr style=\"text-align: right;\">\n",
       "      <th></th>\n",
       "      <th>YearsCode</th>\n",
       "      <th>YearsCodePro</th>\n",
       "      <th>Age</th>\n",
       "      <th>I am a developer by profession</th>\n",
       "      <th>I am a student who is learning to code</th>\n",
       "      <th>I am not primarily a developer, but I write code sometimes as part of my work</th>\n",
       "      <th>I code primarily as a hobby</th>\n",
       "      <th>I used to be a developer by profession, but no longer am</th>\n",
       "      <th>Student</th>\n",
       "    </tr>\n",
       "  </thead>\n",
       "  <tbody>\n",
       "    <tr>\n",
       "      <th>count</th>\n",
       "      <td>66940.000000</td>\n",
       "      <td>66940.000000</td>\n",
       "      <td>66940.000000</td>\n",
       "      <td>66940.000000</td>\n",
       "      <td>66940.0</td>\n",
       "      <td>66940.000000</td>\n",
       "      <td>66940.0</td>\n",
       "      <td>66940.000000</td>\n",
       "      <td>66940.000000</td>\n",
       "    </tr>\n",
       "    <tr>\n",
       "      <th>mean</th>\n",
       "      <td>12.924500</td>\n",
       "      <td>8.152853</td>\n",
       "      <td>31.630054</td>\n",
       "      <td>0.880654</td>\n",
       "      <td>0.0</td>\n",
       "      <td>0.096878</td>\n",
       "      <td>0.0</td>\n",
       "      <td>0.019181</td>\n",
       "      <td>0.163744</td>\n",
       "    </tr>\n",
       "    <tr>\n",
       "      <th>std</th>\n",
       "      <td>9.064308</td>\n",
       "      <td>7.476924</td>\n",
       "      <td>8.655579</td>\n",
       "      <td>0.324197</td>\n",
       "      <td>0.0</td>\n",
       "      <td>0.295794</td>\n",
       "      <td>0.0</td>\n",
       "      <td>0.137163</td>\n",
       "      <td>0.370046</td>\n",
       "    </tr>\n",
       "    <tr>\n",
       "      <th>min</th>\n",
       "      <td>1.000000</td>\n",
       "      <td>1.000000</td>\n",
       "      <td>1.000000</td>\n",
       "      <td>0.000000</td>\n",
       "      <td>0.0</td>\n",
       "      <td>0.000000</td>\n",
       "      <td>0.0</td>\n",
       "      <td>0.000000</td>\n",
       "      <td>0.000000</td>\n",
       "    </tr>\n",
       "    <tr>\n",
       "      <th>25%</th>\n",
       "      <td>6.000000</td>\n",
       "      <td>3.000000</td>\n",
       "      <td>25.000000</td>\n",
       "      <td>1.000000</td>\n",
       "      <td>0.0</td>\n",
       "      <td>0.000000</td>\n",
       "      <td>0.0</td>\n",
       "      <td>0.000000</td>\n",
       "      <td>0.000000</td>\n",
       "    </tr>\n",
       "    <tr>\n",
       "      <th>50%</th>\n",
       "      <td>10.000000</td>\n",
       "      <td>6.000000</td>\n",
       "      <td>30.000000</td>\n",
       "      <td>1.000000</td>\n",
       "      <td>0.0</td>\n",
       "      <td>0.000000</td>\n",
       "      <td>0.0</td>\n",
       "      <td>0.000000</td>\n",
       "      <td>0.000000</td>\n",
       "    </tr>\n",
       "    <tr>\n",
       "      <th>75%</th>\n",
       "      <td>17.000000</td>\n",
       "      <td>11.000000</td>\n",
       "      <td>36.000000</td>\n",
       "      <td>1.000000</td>\n",
       "      <td>0.0</td>\n",
       "      <td>0.000000</td>\n",
       "      <td>0.0</td>\n",
       "      <td>0.000000</td>\n",
       "      <td>0.000000</td>\n",
       "    </tr>\n",
       "    <tr>\n",
       "      <th>max</th>\n",
       "      <td>50.000000</td>\n",
       "      <td>50.000000</td>\n",
       "      <td>99.000000</td>\n",
       "      <td>1.000000</td>\n",
       "      <td>0.0</td>\n",
       "      <td>1.000000</td>\n",
       "      <td>0.0</td>\n",
       "      <td>1.000000</td>\n",
       "      <td>1.000000</td>\n",
       "    </tr>\n",
       "  </tbody>\n",
       "</table>\n",
       "</div>"
      ],
      "text/plain": [
       "          YearsCode  YearsCodePro           Age  \\\n",
       "count  66940.000000  66940.000000  66940.000000   \n",
       "mean      12.924500      8.152853     31.630054   \n",
       "std        9.064308      7.476924      8.655579   \n",
       "min        1.000000      1.000000      1.000000   \n",
       "25%        6.000000      3.000000     25.000000   \n",
       "50%       10.000000      6.000000     30.000000   \n",
       "75%       17.000000     11.000000     36.000000   \n",
       "max       50.000000     50.000000     99.000000   \n",
       "\n",
       "       I am a developer by profession  I am a student who is learning to code  \\\n",
       "count                    66940.000000                                 66940.0   \n",
       "mean                         0.880654                                     0.0   \n",
       "std                          0.324197                                     0.0   \n",
       "min                          0.000000                                     0.0   \n",
       "25%                          1.000000                                     0.0   \n",
       "50%                          1.000000                                     0.0   \n",
       "75%                          1.000000                                     0.0   \n",
       "max                          1.000000                                     0.0   \n",
       "\n",
       "       I am not primarily a developer, but I write code sometimes as part of my work  \\\n",
       "count                                       66940.000000                               \n",
       "mean                                            0.096878                               \n",
       "std                                             0.295794                               \n",
       "min                                             0.000000                               \n",
       "25%                                             0.000000                               \n",
       "50%                                             0.000000                               \n",
       "75%                                             0.000000                               \n",
       "max                                             1.000000                               \n",
       "\n",
       "       I code primarily as a hobby  \\\n",
       "count                      66940.0   \n",
       "mean                           0.0   \n",
       "std                            0.0   \n",
       "min                            0.0   \n",
       "25%                            0.0   \n",
       "50%                            0.0   \n",
       "75%                            0.0   \n",
       "max                            0.0   \n",
       "\n",
       "       I used to be a developer by profession, but no longer am       Student  \n",
       "count                                       66940.000000         66940.000000  \n",
       "mean                                            0.019181             0.163744  \n",
       "std                                             0.137163             0.370046  \n",
       "min                                             0.000000             0.000000  \n",
       "25%                                             0.000000             0.000000  \n",
       "50%                                             0.000000             0.000000  \n",
       "75%                                             0.000000             0.000000  \n",
       "max                                             1.000000             1.000000  "
      ]
     },
     "execution_count": 94,
     "metadata": {},
     "output_type": "execute_result"
    }
   ],
   "source": [
    "df_base.describe()"
   ]
  },
  {
   "cell_type": "code",
   "execution_count": 95,
   "metadata": {},
   "outputs": [],
   "source": [
    "df_base = df_base.astype('float64', copy=False)"
   ]
  },
  {
   "cell_type": "code",
   "execution_count": 96,
   "metadata": {},
   "outputs": [
    {
     "data": {
      "text/plain": [
       "YearsCode                                                                        float64\n",
       "YearsCodePro                                                                     float64\n",
       "Age                                                                              float64\n",
       "I am a developer by profession                                                   float64\n",
       "I am a student who is learning to code                                           float64\n",
       "I am not primarily a developer, but I write code sometimes as part of my work    float64\n",
       "I code primarily as a hobby                                                      float64\n",
       "I used to be a developer by profession, but no longer am                         float64\n",
       "Student                                                                          float64\n",
       "dtype: object"
      ]
     },
     "execution_count": 96,
     "metadata": {},
     "output_type": "execute_result"
    }
   ],
   "source": [
    "df_base.dtypes"
   ]
  },
  {
   "cell_type": "code",
   "execution_count": 97,
   "metadata": {},
   "outputs": [
    {
     "data": {
      "image/png": "[encoded data removed]",
      "text/plain": [
       "<Figure size 432x288 with 1 Axes>"
      ]
     },
     "metadata": {
      "needs_background": "light"
     },
     "output_type": "display_data"
    },
    {
     "data": {
      "image/png": "[encoded data removed]",
      "text/plain": [
       "<Figure size 432x288 with 1 Axes>"
      ]
     },
     "metadata": {
      "needs_background": "light"
     },
     "output_type": "display_data"
    }
   ],
   "source": [
    "sns.regplot(y=df_base_sd['Age'], x=df_base_sd['YearsCode'])\n",
    "plt.show();\n",
    "sns.regplot(y=df_base_sd['Age'], x=df_base_sd['YearsCodePro'])\n",
    "plt.show()\n"
   ]
  },
  {
   "cell_type": "code",
   "execution_count": 98,
   "metadata": {},
   "outputs": [
    {
     "data": {
      "image/png": "[encoded data removed]",
      "text/plain": [
       "<Figure size 432x432 with 3 Axes>"
      ]
     },
     "metadata": {
      "needs_background": "light"
     },
     "output_type": "display_data"
    },
    {
     "data": {
      "image/png": "[encoded data removed]",
      "text/plain": [
       "<Figure size 432x432 with 3 Axes>"
      ]
     },
     "metadata": {
      "needs_background": "light"
     },
     "output_type": "display_data"
    }
   ],
   "source": [
    "sns.jointplot(y='Age', x='YearsCode', data=df_base_sd, kind='reg')\n",
    "plt.show();\n",
    "\n",
    "sns.jointplot(y='Age', x='YearsCodePro', data=df_base_sd, kind='reg')\n",
    "plt.show();\n"
   ]
  },
  {
   "cell_type": "code",
   "execution_count": 99,
   "metadata": {},
   "outputs": [],
   "source": [
    "# creating a regression model\n",
    "reg_model = linear_model.LinearRegression()\n",
    "reg_model.fit(df_base[['YearsCodePro', 'YearsCode', 'Student', 'I am a developer by profession',\n",
    "                         'I am not primarily a developer, but I write code sometimes as part of my work',\n",
    "                         'I used to be a developer by profession, but no longer am']], df_base['Age']);"
   ]
  },
  {
   "cell_type": "code",
   "execution_count": 100,
   "metadata": {},
   "outputs": [
    {
     "data": {
      "text/plain": [
       "4.6411175220027"
      ]
     },
     "execution_count": 100,
     "metadata": {},
     "output_type": "execute_result"
    }
   ],
   "source": [
    "# mse calculation\n",
    "mean_squared_error(df_base['Age'].to_numpy(), \n",
    "                   reg_model.predict(df_base[['YearsCodePro', 'YearsCode', 'Student', 'I am a developer by profession',\n",
    "                         'I am not primarily a developer, but I write code sometimes as part of my work',\n",
    "                         'I used to be a developer by profession, but no longer am']]),squared=False)\n"
   ]
  },
  {
   "cell_type": "code",
   "execution_count": null,
   "metadata": {},
   "outputs": [],
   "source": []
  }
 ],
 "metadata": {
  "kernelspec": {
   "display_name": "Python 3",
   "language": "python",
   "name": "python3"
  },
  "language_info": {
   "codemirror_mode": {
    "name": "ipython",
    "version": 3
   },
   "file_extension": ".py",
   "mimetype": "text/x-python",
   "name": "python",
   "nbconvert_exporter": "python",
   "pygments_lexer": "ipython3",
   "version": "3.7.6"
  }
 },
 "nbformat": 4,
 "nbformat_minor": 4
}
